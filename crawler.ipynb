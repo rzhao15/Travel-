{
 "cells": [
  {
   "cell_type": "code",
   "execution_count": 3,
   "metadata": {},
   "outputs": [],
   "source": [
    "from selenium import webdriver\n",
    "import time"
   ]
  },
  {
   "cell_type": "code",
   "execution_count": 7,
   "metadata": {},
   "outputs": [
    {
     "name": "stderr",
     "output_type": "stream",
     "text": [
      "/anaconda3/lib/python3.7/site-packages/ipykernel_launcher.py:4: DeprecationWarning: use options instead of chrome_options\n",
      "  after removing the cwd from sys.path.\n"
     ]
    },
    {
     "ename": "SessionNotCreatedException",
     "evalue": "Message: session not created: Chrome version must be between 70 and 73\n  (Driver info: chromedriver=73.0.3683.68 (47787ec04b6e38e22703e856e101e840b65afe72),platform=Mac OS X 10.14.4 x86_64)\n",
     "output_type": "error",
     "traceback": [
      "\u001b[0;31m---------------------------------------------------------------------------\u001b[0m",
      "\u001b[0;31mSessionNotCreatedException\u001b[0m                Traceback (most recent call last)",
      "\u001b[0;32m<ipython-input-7-bdc0c41b4078>\u001b[0m in \u001b[0;36m<module>\u001b[0;34m\u001b[0m\n\u001b[1;32m      2\u001b[0m \u001b[0moption\u001b[0m\u001b[0;34m.\u001b[0m\u001b[0madd_argument\u001b[0m\u001b[0;34m(\u001b[0m\u001b[0;34m\"--incognito\"\u001b[0m\u001b[0;34m)\u001b[0m\u001b[0;34m\u001b[0m\u001b[0;34m\u001b[0m\u001b[0m\n\u001b[1;32m      3\u001b[0m \u001b[0;34m\u001b[0m\u001b[0m\n\u001b[0;32m----> 4\u001b[0;31m \u001b[0mdriver\u001b[0m \u001b[0;34m=\u001b[0m \u001b[0mwebdriver\u001b[0m\u001b[0;34m.\u001b[0m\u001b[0mChrome\u001b[0m\u001b[0;34m(\u001b[0m\u001b[0mexecutable_path\u001b[0m\u001b[0;34m=\u001b[0m\u001b[0;34m'/Users/ruilinzhao/Downloads/chromedriver'\u001b[0m\u001b[0;34m,\u001b[0m \u001b[0mchrome_options\u001b[0m\u001b[0;34m=\u001b[0m\u001b[0moption\u001b[0m\u001b[0;34m)\u001b[0m\u001b[0;34m\u001b[0m\u001b[0;34m\u001b[0m\u001b[0m\n\u001b[0m\u001b[1;32m      5\u001b[0m \u001b[0;34m\u001b[0m\u001b[0m\n\u001b[1;32m      6\u001b[0m \u001b[0mcategories\u001b[0m \u001b[0;34m=\u001b[0m \u001b[0;34m[\u001b[0m\u001b[0;34m\"zoo\"\u001b[0m\u001b[0;34m,\u001b[0m \u001b[0;34m\"hiking\"\u001b[0m\u001b[0;34m,\u001b[0m \u001b[0;34m\"aquarium\"\u001b[0m\u001b[0;34m,\u001b[0m \u001b[0;34m\"waterfall\"\u001b[0m\u001b[0;34m,\u001b[0m \u001b[0;34m\"beach\"\u001b[0m\u001b[0;34m,\u001b[0m \u001b[0;34m\"museum\"\u001b[0m\u001b[0;34m,\u001b[0m \u001b[0;34m\"mountain\"\u001b[0m\u001b[0;34m,\u001b[0m \u001b[0;34m\"ski resort\"\u001b[0m\u001b[0;34m,\u001b[0m \u001b[0;34m\"amusement park\"\u001b[0m\u001b[0;34m]\u001b[0m\u001b[0;34m\u001b[0m\u001b[0;34m\u001b[0m\u001b[0m\n",
      "\u001b[0;32m/anaconda3/lib/python3.7/site-packages/selenium/webdriver/chrome/webdriver.py\u001b[0m in \u001b[0;36m__init__\u001b[0;34m(self, executable_path, port, options, service_args, desired_capabilities, service_log_path, chrome_options, keep_alive)\u001b[0m\n\u001b[1;32m     79\u001b[0m                     \u001b[0mremote_server_addr\u001b[0m\u001b[0;34m=\u001b[0m\u001b[0mself\u001b[0m\u001b[0;34m.\u001b[0m\u001b[0mservice\u001b[0m\u001b[0;34m.\u001b[0m\u001b[0mservice_url\u001b[0m\u001b[0;34m,\u001b[0m\u001b[0;34m\u001b[0m\u001b[0;34m\u001b[0m\u001b[0m\n\u001b[1;32m     80\u001b[0m                     keep_alive=keep_alive),\n\u001b[0;32m---> 81\u001b[0;31m                 desired_capabilities=desired_capabilities)\n\u001b[0m\u001b[1;32m     82\u001b[0m         \u001b[0;32mexcept\u001b[0m \u001b[0mException\u001b[0m\u001b[0;34m:\u001b[0m\u001b[0;34m\u001b[0m\u001b[0;34m\u001b[0m\u001b[0m\n\u001b[1;32m     83\u001b[0m             \u001b[0mself\u001b[0m\u001b[0;34m.\u001b[0m\u001b[0mquit\u001b[0m\u001b[0;34m(\u001b[0m\u001b[0;34m)\u001b[0m\u001b[0;34m\u001b[0m\u001b[0;34m\u001b[0m\u001b[0m\n",
      "\u001b[0;32m/anaconda3/lib/python3.7/site-packages/selenium/webdriver/remote/webdriver.py\u001b[0m in \u001b[0;36m__init__\u001b[0;34m(self, command_executor, desired_capabilities, browser_profile, proxy, keep_alive, file_detector, options)\u001b[0m\n\u001b[1;32m    155\u001b[0m             warnings.warn(\"Please use FirefoxOptions to set browser profile\",\n\u001b[1;32m    156\u001b[0m                           DeprecationWarning, stacklevel=2)\n\u001b[0;32m--> 157\u001b[0;31m         \u001b[0mself\u001b[0m\u001b[0;34m.\u001b[0m\u001b[0mstart_session\u001b[0m\u001b[0;34m(\u001b[0m\u001b[0mcapabilities\u001b[0m\u001b[0;34m,\u001b[0m \u001b[0mbrowser_profile\u001b[0m\u001b[0;34m)\u001b[0m\u001b[0;34m\u001b[0m\u001b[0;34m\u001b[0m\u001b[0m\n\u001b[0m\u001b[1;32m    158\u001b[0m         \u001b[0mself\u001b[0m\u001b[0;34m.\u001b[0m\u001b[0m_switch_to\u001b[0m \u001b[0;34m=\u001b[0m \u001b[0mSwitchTo\u001b[0m\u001b[0;34m(\u001b[0m\u001b[0mself\u001b[0m\u001b[0;34m)\u001b[0m\u001b[0;34m\u001b[0m\u001b[0;34m\u001b[0m\u001b[0m\n\u001b[1;32m    159\u001b[0m         \u001b[0mself\u001b[0m\u001b[0;34m.\u001b[0m\u001b[0m_mobile\u001b[0m \u001b[0;34m=\u001b[0m \u001b[0mMobile\u001b[0m\u001b[0;34m(\u001b[0m\u001b[0mself\u001b[0m\u001b[0;34m)\u001b[0m\u001b[0;34m\u001b[0m\u001b[0;34m\u001b[0m\u001b[0m\n",
      "\u001b[0;32m/anaconda3/lib/python3.7/site-packages/selenium/webdriver/remote/webdriver.py\u001b[0m in \u001b[0;36mstart_session\u001b[0;34m(self, capabilities, browser_profile)\u001b[0m\n\u001b[1;32m    250\u001b[0m         parameters = {\"capabilities\": w3c_caps,\n\u001b[1;32m    251\u001b[0m                       \"desiredCapabilities\": capabilities}\n\u001b[0;32m--> 252\u001b[0;31m         \u001b[0mresponse\u001b[0m \u001b[0;34m=\u001b[0m \u001b[0mself\u001b[0m\u001b[0;34m.\u001b[0m\u001b[0mexecute\u001b[0m\u001b[0;34m(\u001b[0m\u001b[0mCommand\u001b[0m\u001b[0;34m.\u001b[0m\u001b[0mNEW_SESSION\u001b[0m\u001b[0;34m,\u001b[0m \u001b[0mparameters\u001b[0m\u001b[0;34m)\u001b[0m\u001b[0;34m\u001b[0m\u001b[0;34m\u001b[0m\u001b[0m\n\u001b[0m\u001b[1;32m    253\u001b[0m         \u001b[0;32mif\u001b[0m \u001b[0;34m'sessionId'\u001b[0m \u001b[0;32mnot\u001b[0m \u001b[0;32min\u001b[0m \u001b[0mresponse\u001b[0m\u001b[0;34m:\u001b[0m\u001b[0;34m\u001b[0m\u001b[0;34m\u001b[0m\u001b[0m\n\u001b[1;32m    254\u001b[0m             \u001b[0mresponse\u001b[0m \u001b[0;34m=\u001b[0m \u001b[0mresponse\u001b[0m\u001b[0;34m[\u001b[0m\u001b[0;34m'value'\u001b[0m\u001b[0;34m]\u001b[0m\u001b[0;34m\u001b[0m\u001b[0;34m\u001b[0m\u001b[0m\n",
      "\u001b[0;32m/anaconda3/lib/python3.7/site-packages/selenium/webdriver/remote/webdriver.py\u001b[0m in \u001b[0;36mexecute\u001b[0;34m(self, driver_command, params)\u001b[0m\n\u001b[1;32m    319\u001b[0m         \u001b[0mresponse\u001b[0m \u001b[0;34m=\u001b[0m \u001b[0mself\u001b[0m\u001b[0;34m.\u001b[0m\u001b[0mcommand_executor\u001b[0m\u001b[0;34m.\u001b[0m\u001b[0mexecute\u001b[0m\u001b[0;34m(\u001b[0m\u001b[0mdriver_command\u001b[0m\u001b[0;34m,\u001b[0m \u001b[0mparams\u001b[0m\u001b[0;34m)\u001b[0m\u001b[0;34m\u001b[0m\u001b[0;34m\u001b[0m\u001b[0m\n\u001b[1;32m    320\u001b[0m         \u001b[0;32mif\u001b[0m \u001b[0mresponse\u001b[0m\u001b[0;34m:\u001b[0m\u001b[0;34m\u001b[0m\u001b[0;34m\u001b[0m\u001b[0m\n\u001b[0;32m--> 321\u001b[0;31m             \u001b[0mself\u001b[0m\u001b[0;34m.\u001b[0m\u001b[0merror_handler\u001b[0m\u001b[0;34m.\u001b[0m\u001b[0mcheck_response\u001b[0m\u001b[0;34m(\u001b[0m\u001b[0mresponse\u001b[0m\u001b[0;34m)\u001b[0m\u001b[0;34m\u001b[0m\u001b[0;34m\u001b[0m\u001b[0m\n\u001b[0m\u001b[1;32m    322\u001b[0m             response['value'] = self._unwrap_value(\n\u001b[1;32m    323\u001b[0m                 response.get('value', None))\n",
      "\u001b[0;32m/anaconda3/lib/python3.7/site-packages/selenium/webdriver/remote/errorhandler.py\u001b[0m in \u001b[0;36mcheck_response\u001b[0;34m(self, response)\u001b[0m\n\u001b[1;32m    240\u001b[0m                 \u001b[0malert_text\u001b[0m \u001b[0;34m=\u001b[0m \u001b[0mvalue\u001b[0m\u001b[0;34m[\u001b[0m\u001b[0;34m'alert'\u001b[0m\u001b[0;34m]\u001b[0m\u001b[0;34m.\u001b[0m\u001b[0mget\u001b[0m\u001b[0;34m(\u001b[0m\u001b[0;34m'text'\u001b[0m\u001b[0;34m)\u001b[0m\u001b[0;34m\u001b[0m\u001b[0;34m\u001b[0m\u001b[0m\n\u001b[1;32m    241\u001b[0m             \u001b[0;32mraise\u001b[0m \u001b[0mexception_class\u001b[0m\u001b[0;34m(\u001b[0m\u001b[0mmessage\u001b[0m\u001b[0;34m,\u001b[0m \u001b[0mscreen\u001b[0m\u001b[0;34m,\u001b[0m \u001b[0mstacktrace\u001b[0m\u001b[0;34m,\u001b[0m \u001b[0malert_text\u001b[0m\u001b[0;34m)\u001b[0m\u001b[0;34m\u001b[0m\u001b[0;34m\u001b[0m\u001b[0m\n\u001b[0;32m--> 242\u001b[0;31m         \u001b[0;32mraise\u001b[0m \u001b[0mexception_class\u001b[0m\u001b[0;34m(\u001b[0m\u001b[0mmessage\u001b[0m\u001b[0;34m,\u001b[0m \u001b[0mscreen\u001b[0m\u001b[0;34m,\u001b[0m \u001b[0mstacktrace\u001b[0m\u001b[0;34m)\u001b[0m\u001b[0;34m\u001b[0m\u001b[0;34m\u001b[0m\u001b[0m\n\u001b[0m\u001b[1;32m    243\u001b[0m \u001b[0;34m\u001b[0m\u001b[0m\n\u001b[1;32m    244\u001b[0m     \u001b[0;32mdef\u001b[0m \u001b[0m_value_or_default\u001b[0m\u001b[0;34m(\u001b[0m\u001b[0mself\u001b[0m\u001b[0;34m,\u001b[0m \u001b[0mobj\u001b[0m\u001b[0;34m,\u001b[0m \u001b[0mkey\u001b[0m\u001b[0;34m,\u001b[0m \u001b[0mdefault\u001b[0m\u001b[0;34m)\u001b[0m\u001b[0;34m:\u001b[0m\u001b[0;34m\u001b[0m\u001b[0;34m\u001b[0m\u001b[0m\n",
      "\u001b[0;31mSessionNotCreatedException\u001b[0m: Message: session not created: Chrome version must be between 70 and 73\n  (Driver info: chromedriver=73.0.3683.68 (47787ec04b6e38e22703e856e101e840b65afe72),platform=Mac OS X 10.14.4 x86_64)\n"
     ]
    }
   ],
   "source": [
    "option = webdriver.ChromeOptions()\n",
    "option.add_argument(\"--incognito\")\n",
    "\n",
    "driver = webdriver.Chrome(executable_path='/Users/ruilinzhao/Downloads/chromedriver', chrome_options=option)\n",
    "\n",
    "categories = [\"zoo\", \"hiking\", \"aquarium\", \"waterfall\", \"beach\", \"museum\", \"mountain\", \"ski resort\", \"amusement park\"]\n",
    "cat_http = []\n",
    "for category in categories:\n",
    "    cat_http.append(category.replace(' ', '%20'))\n",
    "\n",
    "with open(\"attractions.txt\", 'w') as file:\n",
    "    for category in cat_http:\n",
    "        #destinations = driver.find_elements_by_xpath(\"//div[@class='location-meta-block']//div[@class='result-title']//span\")\n",
    "        #addresses = driver.find_elements_by_xpath(\"//div[@class='address']//div[@class='address-text']\")\n",
    "        \n",
    "        for page in range(1,3):\n",
    "            driver.get(\"https://www.tripadvisor.com/Search?redirect&uiOrigin=MASTHEAD&ssrc=A&pid=3826&searchSessionId=61EDF61512048A545712B0BB4AF20AC61554766645318ssid&supportedSearchTypes=find_near_stand_alone_query&geo=191&q=\"+ category +\"&enableNearPage=true&social_typeahead_2018_feature=true\")\n",
    "            time.sleep(3)\n",
    "\n",
    "            if page == 1:\n",
    "                destinations = driver.find_elements_by_xpath(\"//div[@class='location-meta-block']//div\")\n",
    "            else:\n",
    "                button = driver.find_element_by_xpath(\"//div[@class='pageNumbers']//a[@data-page=\" + str(page) + \"]\")\n",
    "                button.click()\n",
    "                time.sleep(1)\n",
    "                destinations = driver.find_elements_by_xpath(\"//div[@class='location-meta-block']//div\")\n",
    "                \n",
    "            htmls = []\n",
    "            for i in destinations[::6]:\n",
    "                htmls.append(i.get_attribute(\"onclick\").split(\"'/\")[1].split(\"',\")[0])\n",
    "    \n",
    "            for html in htmls:\n",
    "                driver.get(\"https://www.tripadvisor.com/\" + html)\n",
    "                time.sleep(1)\n",
    "                attraction = driver.find_element_by_xpath(\"//h1[@id='HEADING']\").text\n",
    "                rating = driver.find_element_by_xpath(\"//div[@class='section rating']//span[@class='overallRating']\").text\n",
    "                intro = driver.find_element_by_xpath(\"//div[@class='attractions-attraction-detail-about-card-AttractionDetailAboutCard__section--1_Efg']\").text.replace('\\n', ' ')\n",
    "                address = driver.find_element_by_xpath(\"//span[@class='textAlignWrapper address']\").text\n",
    "                img = driver.find_element_by_xpath(\"//div[@class='prw_rup prw_common_basic_image xlarge landscape']//img\").get_attribute(\"src\")\n",
    "                file.write(category.replace('%20', ' ') + '\\t' + attraction + '\\t' + address + '\\t' + rating + '\\t' + intro + '\\t' + img + '\\n')\n",
    "\n"
   ]
  },
  {
   "cell_type": "code",
   "execution_count": 1,
   "metadata": {},
   "outputs": [
    {
     "name": "stdout",
     "output_type": "stream",
     "text": [
      "['St. Augustine', 'Utica', 'Anchorage', 'Tampa', 'Jekyll Island', 'Daytona Beach', 'Ithaca', 'Myrtle Beach', 'Bridal Veil', 'Alta', 'Branson', 'Franconia', 'Oahu', 'Bal Harbour', 'Orlando', 'Cherokee', 'Duluth', 'Peru', 'Baraboo', 'Dallas', 'Jenks', 'Lake George', 'Erie', 'Portland', 'Georgetown', 'Ouray', 'Point Pleasant Beach', 'Key West', 'Kent', 'San Antonio', 'Skykomish', 'Mill Valley', 'Kansas City', 'Falmouth', 'Winter Park', 'Beaver Creek', 'Panama City Beach', 'Telluride', 'Las Vegas', 'Brookfield', 'Jacksonville', 'Elysburg', 'Glacier National Park', 'Newport', 'Gulf Shores', 'Pisgah Forest', 'Skagway', 'Arkansas City', 'Mount Vernon', 'Breckenridge', 'Mammoth Lakes', 'Golden', 'Pensacola', 'Durango', 'Hood River', 'Hershey', 'Petersburg', 'Ashford', 'Otsego', 'Columbia', 'Incline Village', 'Gorham', 'Boulder', 'Rosman', 'Mouth of Wilson', 'Long Beach', 'Santa Barbara', 'Island of Hawaii', 'Cincinnati', 'Madison', 'Santa Fe', 'Middlebury', 'Oklahoma City', 'Big Sky', 'Manhattan Beach', 'Teton Village', 'Fairbanks', 'Middle Township', 'Denver', 'North Adams', 'Union Dale', 'Fredericksburg', '5 miles Northeast of Apache Junction', 'Niagara Falls', 'Omaha', 'Tempe', 'West Orange', '17000 Emerald Coast Pkwy', 'Marco Island', 'Copper Mountain', 'Asheville', 'Boston', 'Payson', 'Louisville', 'Mount Desert Island', 'Solitude', 'Point Reyes National Seashore', 'San Jose', 'Ormond Beach', 'Cupertino', 'El Paso', 'Ontonagon', 'Charlemont', 'Pagosa Springs', 'Concord', 'Banner Elk', 'Mount Lemmon', 'Cleveland', 'New Paltz', 'Wrightwood', 'Rockport', 'Mount Rainier National Park', 'Minneapolis', 'Asheboro', 'Carrollton', 'Big Bend National Park', 'Santa Monica', 'Lincoln', 'Arnolds Park', 'Tybee Island', 'Camden', 'Powell', 'Mars Hill', 'Homewood', 'Cashiers', 'Lexington', 'St. Pete Beach', 'Crested Butte', 'Eden', 'Corbett', 'Ocean City', 'Chattanooga', 'Navarre', 'Vail', 'Virginia Beach', 'Fresno', 'Des Moines', 'Dayton', 'Rochester', 'Beaver', 'Raleigh', 'Brevard', 'Port Aransas', 'Riverhead', 'Treasure Island', 'Coronado', 'Waco', 'Milwaukee', 'Benton', 'Allentown', 'Covington', 'Brian Head', 'Seaside', 'Two Harbors', 'Tucson', 'Tipton', 'Kure Beach', 'Jemez Springs', 'Phoenix', 'Sequoia and Kings Canyon National Park', 'Fort Myers Beach', 'Flat Top', 'Dover', 'Helen', 'Springfield', 'Greater Palm Springs', 'Steamboat Springs', 'Corning', 'Sarasota', 'Silverton', 'Norwalk', 'Roanoke Island', 'Los Angeles', 'Leadville', 'Sandusky', 'Philadelphia', 'St. Petersburg', 'San Francisco', 'Sainte Genevieve', 'Macungie', 'Schenectady', 'Stone Mountain', 'Hilton Head', 'Reno', 'Munising', 'Lubbock', 'Jaffrey', 'Mesa', 'Brighton', 'Sacramento', 'Washington DC', 'Watkins Glen', 'Bentonville', 'Wildwood', 'Saint Louis', 'Indianapolis', 'Olympic Valley', 'Scottsdale', 'Hayesville', 'Keystone', 'Surfside Beach', 'Knoxville', 'Toledo', 'Crater Lake National Park', 'Atlantic City', 'Clearwater', 'Bethel', 'Folly Beach', 'Wichita', 'Sanibel Island', 'Sapphire', 'Angel Fire', 'Richmond', '4080 Lake Tahoe Blvd', 'Hidden Valley', 'Killington', 'Cannon Beach', 'Ruidoso', 'Glendale', 'Biloxi', 'Farmington', 'New Orleans', 'Carmel Valley', 'Waterville Valley', 'Jackson', 'Williamsburg', 'Hollywood', 'Detroit', 'Wenatchee', 'Fort Lauderdale', 'Sun Valley', 'Custer', 'Memphis', 'Chagrin Falls', 'Napa', 'Queen Creek', 'Rehoboth Beach', 'West Palm Beach', 'Aspen', 'Glenwood Springs', 'Kirkwood', 'Pittsburgh', 'Corpus Christi', 'Siesta Key', 'Mount Shasta', 'Nashville', 'Green Bay', 'Naples', 'Cedar Mountain', 'Brooklyn', 'Thurmont', 'Salt Lake City', 'Darien', 'Yellowstone National Park', 'Marshall', 'Salem', 'Bronx', 'Conway', 'Pine Knoll Shores', 'Cave Creek', 'Canandaigua', 'Sylvan Beach', 'Keansburg', 'Atlanta', 'Big Sur', 'Amarillo', 'Birmingham', 'Oakland', 'Ogden', 'Pigeon Forge', 'Ludlow', 'Marathon', 'Ponca', 'Carlsbad', 'Sedona', 'Winchester', 'Logan', 'Gatlinburg', 'Houston', 'Ogunquit', 'Wilmington', 'Lake Havasu City', 'Austin', 'Park City', 'Great Smoky Mountains National Park', 'Windham', 'Colorado Springs', 'Bretton Woods', 'Darien Center', 'Port Angeles', 'Miami', 'Seattle', 'Taos Ski Valley', 'Snowshoe', 'Chipley', 'North Creek', 'Monterey', 'Palmerton', 'Bristol', 'Hot Springs', 'Norden', 'Cocoa Beach', 'Juneau', 'Spokane', 'Maui', 'Troutdale', 'San Diego', 'Providence', 'Queensbury', 'Stowe', 'Mount Charleston', 'Pensacola Beach', 'Chicago', 'Kauai', 'Long Beach Island', 'Snowmass Village', 'Miami Beach', 'Albuquerque', 'Highlands', 'Norfolk', 'Mystic', 'New York City', 'Newport Beach', 'North Myrtle Beach', 'Murrieta', 'Fort Worth', 'Arlington', 'Maggie Valley', 'Rossville', 'Davis', 'Melbourne', 'Jay', 'Charleston', 'Baltimore', 'Blowing Rock', 'Clymer', 'Snoqualmie', 'Linville', 'Lassen Volcanic National Park']\n"
     ]
    }
   ],
   "source": [
    "\n",
    "with open(\"attractions.txt\", 'r') as file:\n",
    "    content = file.read()\n",
    "    addresses = content.split(\"\\t\")[2:][::5]\n",
    "    cities = []\n",
    "    for address in addresses:\n",
    "        if (len(address.split(\", \"))) > 1:\n",
    "            cities.append(address.split(\", \")[-2])\n",
    "\n",
    "cities = list(set(cities))\n",
    "print(cities)"
   ]
  },
  {
   "cell_type": "code",
   "execution_count": 198,
   "metadata": {},
   "outputs": [
    {
     "data": {
      "text/plain": [
       "233"
      ]
     },
     "execution_count": 198,
     "metadata": {},
     "output_type": "execute_result"
    }
   ],
   "source": []
  },
  {
   "cell_type": "code",
   "execution_count": 11,
   "metadata": {},
   "outputs": [
    {
     "name": "stderr",
     "output_type": "stream",
     "text": [
      "/anaconda3/lib/python3.7/site-packages/ipykernel_launcher.py:5: DeprecationWarning: use options instead of chrome_options\n",
      "  \"\"\"\n"
     ]
    }
   ],
   "source": [
    "from selenium.webdriver.common.keys import Keys\n",
    "\n",
    "option = webdriver.ChromeOptions()\n",
    "option.add_argument(\"--incognito\")\n",
    "driver = webdriver.Chrome(executable_path='/Users/ruilinzhao/Downloads/chromedriver', chrome_options=option)\n",
    "\n",
    "\n",
    "with open(\"hotels.txt\", 'w') as file:\n",
    "    for city in cities:\n",
    "        driver.get(\"https://www.booking.com/searchresults.en-us.html?label=gen173nr-1FCAEoggI46AdIM1gEaKsCiAEBmAExuAEHyAEM2AEB6AEB-AECiAIBqAIDuAKO_L3lBcACAQ&sid=6c0e845bab923f385ebb787605fee81c&sb=1&src=index&src_elem=sb&error_url=https%3A%2F%2Fwww.booking.com%2Findex.html%3Flabel%3Dgen173nr-1FCAEoggI46AdIM1gEaKsCiAEBmAExuAEHyAEM2AEB6AEB-AECiAIBqAIDuAKO_L3lBcACAQ%3Bsid%3D6c0e845bab923f385ebb787605fee81c%3Bsb_price_type%3Dtotal%26%3B&ss=\"+city.replace(' ', '+')+\"&checkin_year=2019&checkin_month=5&checkin_monthday=30&checkout_year=2019&checkout_month=5&checkout_monthday=31\")\n",
    "        time.sleep(2)\n",
    "\n",
    "        try:\n",
    "            driver.find_element_by_xpath(\"//a[@data-id='oos-1']//span\").click()\n",
    "        except:\n",
    "            pass\n",
    "        time.sleep(2)\n",
    "\n",
    "        names = driver.find_elements_by_xpath(\"//span[@class='sr-hotel__name\\n']\")\n",
    "        ratings = driver.find_elements_by_xpath(\"//div[@class='bui-review-score__badge']\")\n",
    "        prices = driver.find_elements_by_xpath(\"//b\")\n",
    "        imgs = driver.find_elements_by_xpath(\"//img[@class='hotel_image']\")\n",
    "        htmls = driver.find_elements_by_xpath(\"//a[@class='hotel_name_link url']\")\n",
    "        for i in range(min(len(names),len(ratings), len(prices), len(imgs), len(htmls), 10)):\n",
    "            file.write(names[i].text + \"\\t\" + city + \"\\t\" + ratings[i].text + \"\\t\" + prices[i].text + \"\\t\" + imgs[i].get_attribute(\"src\") + \"\\t\" + htmls[i].get_attribute(\"href\") +\"\\n\")\n",
    "            \n",
    "\n"
   ]
  },
  {
   "cell_type": "code",
   "execution_count": 12,
   "metadata": {},
   "outputs": [
    {
     "name": "stdout",
     "output_type": "stream",
     "text": [
      "3180\n"
     ]
    }
   ],
   "source": [
    "with open(\"hotels.txt\", 'r') as file:\n",
    "    print(len(file.readlines()))"
   ]
  },
  {
   "cell_type": "code",
   "execution_count": 13,
   "metadata": {},
   "outputs": [
    {
     "name": "stderr",
     "output_type": "stream",
     "text": [
      "/anaconda3/lib/python3.7/site-packages/ipykernel_launcher.py:1: DeprecationWarning: use options instead of chrome_options\n",
      "  \"\"\"Entry point for launching an IPython kernel.\n"
     ]
    }
   ],
   "source": [
    "driver = webdriver.Chrome(executable_path='/Users/ruilinzhao/Downloads/chromedriver', chrome_options=option)\n",
    "with open(\"restaurants.txt\", 'w') as file:\n",
    "    for city in cities:\n",
    "        driver.get(\"https://www.yelp.com/search?find_desc=Restaurants&find_loc=\" + city.replace(' ', '+'))\n",
    "        time.sleep(2)\n",
    "\n",
    "        names = driver.find_elements_by_xpath(\"//div[@class='lemon--div__373c0__1mboc businessName__373c0__1fTgn border-color--default__373c0__2oFDT']\")\n",
    "        ratings = driver.find_elements_by_xpath(\"//div[@class='lemon--div__373c0__1mboc attribute__373c0__1hPI_ display--inline-block__373c0__2de_K u-space-r1 border-color--default__373c0__2oFDT']//div\")\n",
    "        imgs = driver.find_elements_by_xpath(\"//img[@class='lemon--img__373c0__3GQUb photo-box-img__373c0__O0tbt']\")\n",
    "        categories = driver.find_elements_by_xpath(\"//div[@class='lemon--div__373c0__1mboc priceCategory__373c0__3zW0R border-color--default__373c0__2oFDT']\")\n",
    "        addresses = driver.find_elements_by_xpath(\"//address[@class='domtags--address__373c0__cgebO']\")\n",
    "        htmls = driver.find_elements_by_xpath(\"//div[@class='lemon--div__373c0__1mboc businessName__373c0__1fTgn border-color--default__373c0__2oFDT']//a\")\n",
    "        for i in range(3,13):\n",
    "            try:\n",
    "                file.write(names[i].text.split('. ')[1] + '\\t' + city + '\\t' + addresses[i].text + '\\t' + ratings[i].get_attribute(\"aria-label\").split(' ')[0] + '\\t' + str(categories[i].text.count(\"$\")) + '\\t' + categories[i].text[categories[i].text.count(\"$\"):] + '\\t' + imgs[i].get_attribute(\"src\") + '\\t' + htmls[i].get_attribute(\"href\") +'\\n')\n",
    "            except:\n",
    "                pass\n",
    "            "
   ]
  },
  {
   "cell_type": "code",
   "execution_count": 14,
   "metadata": {},
   "outputs": [
    {
     "name": "stdout",
     "output_type": "stream",
     "text": [
      "3245\n"
     ]
    }
   ],
   "source": [
    "with open(\"restaurants.txt\", 'r') as file:\n",
    "    print(len(file.readlines()))"
   ]
  }
 ],
 "metadata": {
  "kernelspec": {
   "display_name": "Python 3",
   "language": "python",
   "name": "python3"
  },
  "language_info": {
   "codemirror_mode": {
    "name": "ipython",
    "version": 3
   },
   "file_extension": ".py",
   "mimetype": "text/x-python",
   "name": "python",
   "nbconvert_exporter": "python",
   "pygments_lexer": "ipython3",
   "version": "3.7.3"
  }
 },
 "nbformat": 4,
 "nbformat_minor": 2
}
