{
 "cells": [
  {
   "cell_type": "code",
   "execution_count": null,
   "metadata": {},
   "outputs": [],
   "source": [
    "from selenium import webdriver\n",
    "import time"
   ]
  },
  {
   "cell_type": "code",
   "execution_count": null,
   "metadata": {},
   "outputs": [],
   "source": [
    "option = webdriver.ChromeOptions()\n",
    "option.add_argument(\"--incognito\")\n",
    "\n",
    "driver = webdriver.Chrome(executable_path='/Users/ruilinzhao/Downloads/chromedriver', chrome_options=option)\n",
    "\n",
    "categories = [\"zoo\", \"hiking\", \"aquarium\", \"waterfall\", \"beach\", \"museum\", \"mountain\", \"ski resort\", \"amusement park\"]\n",
    "cat_http = []\n",
    "for category in categories:\n",
    "    cat_http.append(category.replace(' ', '%20'))\n",
    "\n",
    "with open(\"attractions.txt\", 'w') as file:\n",
    "    for category in cat_http:\n",
    "        for page in range(1,3):\n",
    "            driver.get(\"https://www.tripadvisor.com/Search?redirect&uiOrigin=MASTHEAD&ssrc=A&pid=3826&searchSessionId=61EDF61512048A545712B0BB4AF20AC61554766645318ssid&supportedSearchTypes=find_near_stand_alone_query&geo=191&q=\"+ category +\"&enableNearPage=true&social_typeahead_2018_feature=true\")\n",
    "            time.sleep(3)\n",
    "\n",
    "            if page == 1:\n",
    "                destinations = driver.find_elements_by_xpath(\"//div[@class='location-meta-block']//div\")\n",
    "            else:\n",
    "                button = driver.find_element_by_xpath(\"//div[@class='pageNumbers']//a[@data-page=\" + str(page) + \"]\")\n",
    "                button.click()\n",
    "                time.sleep(1)\n",
    "                destinations = driver.find_elements_by_xpath(\"//div[@class='location-meta-block']//div\")\n",
    "                \n",
    "            htmls = []\n",
    "            for i in destinations[::6]:\n",
    "                htmls.append(i.get_attribute(\"onclick\").split(\"'/\")[1].split(\"',\")[0])\n",
    "    \n",
    "            for html in htmls:\n",
    "                driver.get(\"https://www.tripadvisor.com/\" + html)\n",
    "                time.sleep(1)\n",
    "                attraction = driver.find_element_by_xpath(\"//h1[@id='HEADING']\").text\n",
    "                rating = driver.find_element_by_xpath(\"//div[@class='section rating']//span[@class='overallRating']\").text\n",
    "                intro = driver.find_element_by_xpath(\"//div[@class='attractions-attraction-detail-about-card-AttractionDetailAboutCard__section--1_Efg']\").text.replace('\\n', ' ')\n",
    "                address = driver.find_element_by_xpath(\"//span[@class='textAlignWrapper address']\").text\n",
    "                img = driver.find_element_by_xpath(\"//div[@class='prw_rup prw_common_basic_image xlarge landscape']//img\").get_attribute(\"src\")\n",
    "                file.write(category.replace('%20', ' ') + '\\t' + attraction + '\\t' + address + '\\t' + rating + '\\t' + intro + '\\t' + img + '\\n')\n"
   ]
  },
  {
   "cell_type": "code",
   "execution_count": null,
   "metadata": {},
   "outputs": [],
   "source": [
    "with open(\"attractions.txt\", 'r') as file:\n",
    "    content = file.read()\n",
    "    addresses = content.split(\"\\t\")[2:][::5]\n",
    "    cities = []\n",
    "    for address in addresses:\n",
    "        if (len(address.split(\", \"))) > 1:\n",
    "            cities.append(address.split(\", \")[-2])\n",
    "\n",
    "cities = list(set(cities))"
   ]
  },
  {
   "cell_type": "code",
   "execution_count": null,
   "metadata": {},
   "outputs": [],
   "source": [
    "from selenium.webdriver.common.keys import Keys\n",
    "\n",
    "option = webdriver.ChromeOptions()\n",
    "option.add_argument(\"--incognito\")\n",
    "driver = webdriver.Chrome(executable_path='/Users/ruilinzhao/Downloads/chromedriver', chrome_options=option)\n",
    "\n",
    "\n",
    "with open(\"hotels.txt\", 'w') as file:\n",
    "    for city in cities:\n",
    "        driver.get(\"https://www.booking.com/searchresults.en-us.html?label=gen173nr-1FCAEoggI46AdIM1gEaKsCiAEBmAExuAEHyAEM2AEB6AEB-AECiAIBqAIDuAKO_L3lBcACAQ&sid=6c0e845bab923f385ebb787605fee81c&sb=1&src=index&src_elem=sb&error_url=https%3A%2F%2Fwww.booking.com%2Findex.html%3Flabel%3Dgen173nr-1FCAEoggI46AdIM1gEaKsCiAEBmAExuAEHyAEM2AEB6AEB-AECiAIBqAIDuAKO_L3lBcACAQ%3Bsid%3D6c0e845bab923f385ebb787605fee81c%3Bsb_price_type%3Dtotal%26%3B&ss=\"+city.replace(' ', '+')+\"&checkin_year=2019&checkin_month=5&checkin_monthday=30&checkout_year=2019&checkout_month=5&checkout_monthday=31\")\n",
    "        time.sleep(2)\n",
    "\n",
    "        try:\n",
    "            driver.find_element_by_xpath(\"//a[@data-id='oos-1']//span\").click()\n",
    "        except:\n",
    "            pass\n",
    "        time.sleep(2)\n",
    "\n",
    "        names = driver.find_elements_by_xpath(\"//span[@class='sr-hotel__name\\n']\")\n",
    "        ratings = driver.find_elements_by_xpath(\"//div[@class='bui-review-score__badge']\")\n",
    "        prices = driver.find_elements_by_xpath(\"//b\")\n",
    "        imgs = driver.find_elements_by_xpath(\"//img[@class='hotel_image']\")\n",
    "        htmls = driver.find_elements_by_xpath(\"//a[@class='hotel_name_link url']\")\n",
    "        for i in range(min(len(names),len(ratings), len(prices), len(imgs), len(htmls), 10)):\n",
    "            file.write(names[i].text + \"\\t\" + city + \"\\t\" + ratings[i].text + \"\\t\" + prices[i].text + \"\\t\" + imgs[i].get_attribute(\"src\") + \"\\t\" + htmls[i].get_attribute(\"href\") +\"\\n\")\n",
    "            \n"
   ]
  },
  {
   "cell_type": "code",
   "execution_count": null,
   "metadata": {},
   "outputs": [],
   "source": [
    "driver = webdriver.Chrome(executable_path='/Users/ruilinzhao/Downloads/chromedriver', chrome_options=option)\n",
    "with open(\"restaurants.txt\", 'w') as file:\n",
    "    for city in cities:\n",
    "        driver.get(\"https://www.yelp.com/search?find_desc=Restaurants&find_loc=\" + city.replace(' ', '+'))\n",
    "        time.sleep(2)\n",
    "\n",
    "        names = driver.find_elements_by_xpath(\"//div[@class='lemon--div__373c0__1mboc businessName__373c0__1fTgn border-color--default__373c0__2oFDT']\")\n",
    "        ratings = driver.find_elements_by_xpath(\"//div[@class='lemon--div__373c0__1mboc attribute__373c0__1hPI_ display--inline-block__373c0__2de_K u-space-r1 border-color--default__373c0__2oFDT']//div\")\n",
    "        imgs = driver.find_elements_by_xpath(\"//img[@class='lemon--img__373c0__3GQUb photo-box-img__373c0__O0tbt']\")\n",
    "        categories = driver.find_elements_by_xpath(\"//div[@class='lemon--div__373c0__1mboc priceCategory__373c0__3zW0R border-color--default__373c0__2oFDT']\")\n",
    "        addresses = driver.find_elements_by_xpath(\"//address[@class='domtags--address__373c0__cgebO']\")\n",
    "        htmls = driver.find_elements_by_xpath(\"//div[@class='lemon--div__373c0__1mboc businessName__373c0__1fTgn border-color--default__373c0__2oFDT']//a\")\n",
    "        for i in range(3,13):\n",
    "            try:\n",
    "                file.write(names[i].text.split('. ')[1] + '\\t' + city + '\\t' + addresses[i].text + '\\t' + ratings[i].get_attribute(\"aria-label\").split(' ')[0] + '\\t' + str(categories[i].text.count(\"$\")) + '\\t' + categories[i].text[categories[i].text.count(\"$\"):] + '\\t' + imgs[i].get_attribute(\"src\") + '\\t' + htmls[i].get_attribute(\"href\") +'\\n')\n",
    "            except:\n",
    "                pass\n",
    "            "
   ]
  }
 ],
 "metadata": {
  "kernelspec": {
   "display_name": "Python 3",
   "language": "python",
   "name": "python3"
  },
  "language_info": {
   "codemirror_mode": {
    "name": "ipython",
    "version": 3
   },
   "file_extension": ".py",
   "mimetype": "text/x-python",
   "name": "python",
   "nbconvert_exporter": "python",
   "pygments_lexer": "ipython3",
   "version": "3.7.3"
  }
 },
 "nbformat": 4,
 "nbformat_minor": 2
}
